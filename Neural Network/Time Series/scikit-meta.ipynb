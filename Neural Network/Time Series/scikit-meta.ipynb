{
 "cells": [
  {
   "cell_type": "code",
   "execution_count": 1,
   "metadata": {},
   "outputs": [
    {
     "ename": "ModuleNotFoundError",
     "evalue": "No module named 'sklego'",
     "output_type": "error",
     "traceback": [
      "\u001b[1;31m---------------------------------------------------------------------------\u001b[0m",
      "\u001b[1;31mModuleNotFoundError\u001b[0m                       Traceback (most recent call last)",
      "Cell \u001b[1;32mIn [1], line 2\u001b[0m\n\u001b[0;32m      1\u001b[0m \u001b[39mfrom\u001b[39;00m \u001b[39msklearn\u001b[39;00m\u001b[39m.\u001b[39;00m\u001b[39mdummy\u001b[39;00m \u001b[39mimport\u001b[39;00m DummyRegressor\n\u001b[1;32m----> 2\u001b[0m \u001b[39mfrom\u001b[39;00m \u001b[39msklego\u001b[39;00m\u001b[39m.\u001b[39;00m\u001b[39mmeta\u001b[39;00m \u001b[39mimport\u001b[39;00m GroupedPredictor, DecayEstimator\n\u001b[0;32m      3\u001b[0m \u001b[39mfrom\u001b[39;00m \u001b[39msklego\u001b[39;00m\u001b[39m.\u001b[39;00m\u001b[39mdatasets\u001b[39;00m \u001b[39mimport\u001b[39;00m make_simpleseries\n\u001b[0;32m      4\u001b[0m \u001b[39mimport\u001b[39;00m \u001b[39mmatplotlib\u001b[39;00m\u001b[39m.\u001b[39;00m\u001b[39mpyplot\u001b[39;00m \u001b[39mas\u001b[39;00m \u001b[39mplt\u001b[39;00m\n",
      "\u001b[1;31mModuleNotFoundError\u001b[0m: No module named 'sklego'"
     ]
    }
   ],
   "source": [
    "from sklearn.dummy import DummyRegressor\n",
    "from sklego.meta import GroupedPredictor, DecayEstimator\n",
    "from sklego.datasets import make_simpleseries\n",
    "import matplotlib.pyplot as plt\n",
    "import pandas as pd\n",
    "\n",
    "\n",
    "yt = make_simpleseries(seed=1)\n",
    "dates = pd.date_range(\"2000-01-01\", periods=len(yt))\n",
    "\n",
    "df = (pd.DataFrame({\"y\": yt,\n",
    "                    \"date\": dates})\n",
    "    .assign(m=lambda d: d.date.dt.month)\n",
    "    .reset_index())\n",
    "\n",
    "plt.figure(figsize=(12, 4))\n",
    "plt.plot(dates, make_simpleseries(seed=1))"
   ]
  },
  {
   "cell_type": "code",
   "execution_count": null,
   "metadata": {},
   "outputs": [],
   "source": []
  }
 ],
 "metadata": {
  "kernelspec": {
   "display_name": "Python 3",
   "language": "python",
   "name": "python3"
  },
  "language_info": {
   "codemirror_mode": {
    "name": "ipython",
    "version": 3
   },
   "file_extension": ".py",
   "mimetype": "text/x-python",
   "name": "python",
   "nbconvert_exporter": "python",
   "pygments_lexer": "ipython3",
   "version": "3.10.8"
  },
  "orig_nbformat": 4,
  "vscode": {
   "interpreter": {
    "hash": "dae8673a7cd6cbc01ada4a9d90eb880c421e47f5dbfa165c6002071b38bccfc0"
   }
  }
 },
 "nbformat": 4,
 "nbformat_minor": 2
}
