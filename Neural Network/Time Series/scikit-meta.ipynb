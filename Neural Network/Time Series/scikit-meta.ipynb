{
 "cells": [
  {
   "cell_type": "code",
   "execution_count": null,
   "metadata": {},
   "outputs": [],
   "source": [
    "from sklearn.dummy import DummyRegressor\n",
    "from sklego.meta import GroupedPredictor, DecayEstimator\n",
    "from sklego.datasets import make_simpleseries\n",
    "import matplotlib.pyplot as plt\n",
    "import pandas as pd\n",
    "\n",
    "\n",
    "yt = make_simpleseries(seed=1)\n",
    "dates = pd.date_range(\"2000-01-01\", periods=len(yt))\n",
    "\n",
    "df = (pd.DataFrame({\"y\": yt,\n",
    "                    \"date\": dates})\n",
    "                    .assign()"
   ]
  }
 ],
 "metadata": {
  "kernelspec": {
   "display_name": "Python 3",
   "language": "python",
   "name": "python3"
  },
  "language_info": {
   "name": "python",
   "version": "3.10.8 | packaged by conda-forge | (main, Nov 24 2022, 14:07:00) [MSC v.1916 64 bit (AMD64)]"
  },
  "orig_nbformat": 4,
  "vscode": {
   "interpreter": {
    "hash": "dae8673a7cd6cbc01ada4a9d90eb880c421e47f5dbfa165c6002071b38bccfc0"
   }
  }
 },
 "nbformat": 4,
 "nbformat_minor": 2
}
